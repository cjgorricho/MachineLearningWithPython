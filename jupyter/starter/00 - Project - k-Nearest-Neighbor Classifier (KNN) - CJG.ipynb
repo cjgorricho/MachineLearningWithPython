{
 "cells": [
  {
   "cell_type": "markdown",
   "id": "321ec113",
   "metadata": {},
   "source": [
    "# Project - $k$-Nearest-Neighbors Classifier\n",
    "- Create a $k$-Nearest-Neighbors Classifier supporting 3 dimensions\n",
    "- Investigate whether it performs better"
   ]
  },
  {
   "cell_type": "markdown",
   "id": "e3bc28f8",
   "metadata": {},
   "source": [
    "### Step 1: Import libraries"
   ]
  },
  {
   "cell_type": "code",
   "execution_count": 1,
   "id": "7a3e7d1c",
   "metadata": {},
   "outputs": [],
   "source": [
    "import pandas as pd\n",
    "import numpy as np"
   ]
  },
  {
   "cell_type": "markdown",
   "id": "d7d9b7fd",
   "metadata": {},
   "source": [
    "### Step 2: Read data\n",
    "- Use pandas [read_csv](https://pandas.pydata.org/pandas-docs/stable/reference/api/pandas.read_csv.html) method to read **files/weather.csv**\n",
    "- HINT: Use **parse_dates=True** and **index_col=0**"
   ]
  },
  {
   "cell_type": "code",
   "execution_count": 2,
   "id": "92f1dee9",
   "metadata": {},
   "outputs": [],
   "source": [
    "data = pd.read_csv('files/weather.csv', parse_dates=True, index_col =0)"
   ]
  },
  {
   "cell_type": "code",
   "execution_count": null,
   "id": "db6271d2",
   "metadata": {},
   "outputs": [],
   "source": []
  },
  {
   "cell_type": "markdown",
   "id": "f84c7bf0",
   "metadata": {},
   "source": [
    "### Step 3: Investigate data types\n",
    "- Use [dtypes](https://pandas.pydata.org/docs/reference/api/pandas.DataFrame.dtypes.html)\n",
    "- The goal is to identify all columns with datatype **float64** for next step"
   ]
  },
  {
   "cell_type": "code",
   "execution_count": 4,
   "id": "8293e90b",
   "metadata": {},
   "outputs": [
    {
     "data": {
      "text/plain": [
       "MinTemp          float64\n",
       "MaxTemp          float64\n",
       "Rainfall         float64\n",
       "Evaporation      float64\n",
       "Sunshine         float64\n",
       "WindGustDir       object\n",
       "WindGustSpeed    float64\n",
       "WindDir9am        object\n",
       "WindDir3pm        object\n",
       "WindSpeed9am     float64\n",
       "WindSpeed3pm     float64\n",
       "Humidity9am      float64\n",
       "Humidity3pm      float64\n",
       "Pressure9am      float64\n",
       "Pressure3pm      float64\n",
       "Cloud9am         float64\n",
       "Cloud3pm         float64\n",
       "Temp9am          float64\n",
       "Temp3pm          float64\n",
       "RainToday         object\n",
       "RISK_MM          float64\n",
       "RainTomorrow      object\n",
       "dtype: object"
      ]
     },
     "execution_count": 4,
     "metadata": {},
     "output_type": "execute_result"
    }
   ],
   "source": [
    "data.dtypes"
   ]
  },
  {
   "cell_type": "code",
   "execution_count": 5,
   "id": "b37dffa2",
   "metadata": {},
   "outputs": [
    {
     "data": {
      "text/html": [
       "<div>\n",
       "<style scoped>\n",
       "    .dataframe tbody tr th:only-of-type {\n",
       "        vertical-align: middle;\n",
       "    }\n",
       "\n",
       "    .dataframe tbody tr th {\n",
       "        vertical-align: top;\n",
       "    }\n",
       "\n",
       "    .dataframe thead th {\n",
       "        text-align: right;\n",
       "    }\n",
       "</style>\n",
       "<table border=\"1\" class=\"dataframe\">\n",
       "  <thead>\n",
       "    <tr style=\"text-align: right;\">\n",
       "      <th></th>\n",
       "      <th>MinTemp</th>\n",
       "      <th>MaxTemp</th>\n",
       "      <th>Rainfall</th>\n",
       "      <th>Evaporation</th>\n",
       "      <th>Sunshine</th>\n",
       "      <th>WindGustDir</th>\n",
       "      <th>WindGustSpeed</th>\n",
       "      <th>WindDir9am</th>\n",
       "      <th>WindDir3pm</th>\n",
       "      <th>WindSpeed9am</th>\n",
       "      <th>...</th>\n",
       "      <th>Humidity3pm</th>\n",
       "      <th>Pressure9am</th>\n",
       "      <th>Pressure3pm</th>\n",
       "      <th>Cloud9am</th>\n",
       "      <th>Cloud3pm</th>\n",
       "      <th>Temp9am</th>\n",
       "      <th>Temp3pm</th>\n",
       "      <th>RainToday</th>\n",
       "      <th>RISK_MM</th>\n",
       "      <th>RainTomorrow</th>\n",
       "    </tr>\n",
       "    <tr>\n",
       "      <th>Date</th>\n",
       "      <th></th>\n",
       "      <th></th>\n",
       "      <th></th>\n",
       "      <th></th>\n",
       "      <th></th>\n",
       "      <th></th>\n",
       "      <th></th>\n",
       "      <th></th>\n",
       "      <th></th>\n",
       "      <th></th>\n",
       "      <th></th>\n",
       "      <th></th>\n",
       "      <th></th>\n",
       "      <th></th>\n",
       "      <th></th>\n",
       "      <th></th>\n",
       "      <th></th>\n",
       "      <th></th>\n",
       "      <th></th>\n",
       "      <th></th>\n",
       "      <th></th>\n",
       "    </tr>\n",
       "  </thead>\n",
       "  <tbody>\n",
       "    <tr>\n",
       "      <th>2008-02-01</th>\n",
       "      <td>19.5</td>\n",
       "      <td>22.4</td>\n",
       "      <td>15.6</td>\n",
       "      <td>6.2</td>\n",
       "      <td>0.0</td>\n",
       "      <td>NaN</td>\n",
       "      <td>NaN</td>\n",
       "      <td>S</td>\n",
       "      <td>SSW</td>\n",
       "      <td>17.0</td>\n",
       "      <td>...</td>\n",
       "      <td>84.0</td>\n",
       "      <td>1017.6</td>\n",
       "      <td>1017.4</td>\n",
       "      <td>8.0</td>\n",
       "      <td>8.0</td>\n",
       "      <td>20.7</td>\n",
       "      <td>20.9</td>\n",
       "      <td>Yes</td>\n",
       "      <td>6.0</td>\n",
       "      <td>Yes</td>\n",
       "    </tr>\n",
       "    <tr>\n",
       "      <th>2008-02-02</th>\n",
       "      <td>19.5</td>\n",
       "      <td>25.6</td>\n",
       "      <td>6.0</td>\n",
       "      <td>3.4</td>\n",
       "      <td>2.7</td>\n",
       "      <td>NaN</td>\n",
       "      <td>NaN</td>\n",
       "      <td>W</td>\n",
       "      <td>E</td>\n",
       "      <td>9.0</td>\n",
       "      <td>...</td>\n",
       "      <td>73.0</td>\n",
       "      <td>1017.9</td>\n",
       "      <td>1016.4</td>\n",
       "      <td>7.0</td>\n",
       "      <td>7.0</td>\n",
       "      <td>22.4</td>\n",
       "      <td>24.8</td>\n",
       "      <td>Yes</td>\n",
       "      <td>6.6</td>\n",
       "      <td>Yes</td>\n",
       "    </tr>\n",
       "    <tr>\n",
       "      <th>2008-02-03</th>\n",
       "      <td>21.6</td>\n",
       "      <td>24.5</td>\n",
       "      <td>6.6</td>\n",
       "      <td>2.4</td>\n",
       "      <td>0.1</td>\n",
       "      <td>NaN</td>\n",
       "      <td>NaN</td>\n",
       "      <td>ESE</td>\n",
       "      <td>ESE</td>\n",
       "      <td>17.0</td>\n",
       "      <td>...</td>\n",
       "      <td>86.0</td>\n",
       "      <td>1016.7</td>\n",
       "      <td>1015.6</td>\n",
       "      <td>7.0</td>\n",
       "      <td>8.0</td>\n",
       "      <td>23.5</td>\n",
       "      <td>23.0</td>\n",
       "      <td>Yes</td>\n",
       "      <td>18.8</td>\n",
       "      <td>Yes</td>\n",
       "    </tr>\n",
       "    <tr>\n",
       "      <th>2008-02-04</th>\n",
       "      <td>20.2</td>\n",
       "      <td>22.8</td>\n",
       "      <td>18.8</td>\n",
       "      <td>2.2</td>\n",
       "      <td>0.0</td>\n",
       "      <td>NaN</td>\n",
       "      <td>NaN</td>\n",
       "      <td>NNE</td>\n",
       "      <td>E</td>\n",
       "      <td>22.0</td>\n",
       "      <td>...</td>\n",
       "      <td>90.0</td>\n",
       "      <td>1014.2</td>\n",
       "      <td>1011.8</td>\n",
       "      <td>8.0</td>\n",
       "      <td>8.0</td>\n",
       "      <td>21.4</td>\n",
       "      <td>20.9</td>\n",
       "      <td>Yes</td>\n",
       "      <td>77.4</td>\n",
       "      <td>Yes</td>\n",
       "    </tr>\n",
       "    <tr>\n",
       "      <th>2008-02-05</th>\n",
       "      <td>19.7</td>\n",
       "      <td>25.7</td>\n",
       "      <td>77.4</td>\n",
       "      <td>NaN</td>\n",
       "      <td>0.0</td>\n",
       "      <td>NaN</td>\n",
       "      <td>NaN</td>\n",
       "      <td>NNE</td>\n",
       "      <td>W</td>\n",
       "      <td>11.0</td>\n",
       "      <td>...</td>\n",
       "      <td>74.0</td>\n",
       "      <td>1008.3</td>\n",
       "      <td>1004.8</td>\n",
       "      <td>8.0</td>\n",
       "      <td>8.0</td>\n",
       "      <td>22.5</td>\n",
       "      <td>25.5</td>\n",
       "      <td>Yes</td>\n",
       "      <td>1.6</td>\n",
       "      <td>Yes</td>\n",
       "    </tr>\n",
       "  </tbody>\n",
       "</table>\n",
       "<p>5 rows × 22 columns</p>\n",
       "</div>"
      ],
      "text/plain": [
       "            MinTemp  MaxTemp  Rainfall  Evaporation  Sunshine WindGustDir  \\\n",
       "Date                                                                        \n",
       "2008-02-01     19.5     22.4      15.6          6.2       0.0         NaN   \n",
       "2008-02-02     19.5     25.6       6.0          3.4       2.7         NaN   \n",
       "2008-02-03     21.6     24.5       6.6          2.4       0.1         NaN   \n",
       "2008-02-04     20.2     22.8      18.8          2.2       0.0         NaN   \n",
       "2008-02-05     19.7     25.7      77.4          NaN       0.0         NaN   \n",
       "\n",
       "            WindGustSpeed WindDir9am WindDir3pm  WindSpeed9am  ...  \\\n",
       "Date                                                           ...   \n",
       "2008-02-01            NaN          S        SSW          17.0  ...   \n",
       "2008-02-02            NaN          W          E           9.0  ...   \n",
       "2008-02-03            NaN        ESE        ESE          17.0  ...   \n",
       "2008-02-04            NaN        NNE          E          22.0  ...   \n",
       "2008-02-05            NaN        NNE          W          11.0  ...   \n",
       "\n",
       "            Humidity3pm  Pressure9am  Pressure3pm  Cloud9am  Cloud3pm  \\\n",
       "Date                                                                    \n",
       "2008-02-01         84.0       1017.6       1017.4       8.0       8.0   \n",
       "2008-02-02         73.0       1017.9       1016.4       7.0       7.0   \n",
       "2008-02-03         86.0       1016.7       1015.6       7.0       8.0   \n",
       "2008-02-04         90.0       1014.2       1011.8       8.0       8.0   \n",
       "2008-02-05         74.0       1008.3       1004.8       8.0       8.0   \n",
       "\n",
       "            Temp9am  Temp3pm  RainToday  RISK_MM RainTomorrow  \n",
       "Date                                                           \n",
       "2008-02-01     20.7     20.9        Yes      6.0          Yes  \n",
       "2008-02-02     22.4     24.8        Yes      6.6          Yes  \n",
       "2008-02-03     23.5     23.0        Yes     18.8          Yes  \n",
       "2008-02-04     21.4     20.9        Yes     77.4          Yes  \n",
       "2008-02-05     22.5     25.5        Yes      1.6          Yes  \n",
       "\n",
       "[5 rows x 22 columns]"
      ]
     },
     "execution_count": 5,
     "metadata": {},
     "output_type": "execute_result"
    }
   ],
   "source": [
    "data.head()"
   ]
  },
  {
   "cell_type": "code",
   "execution_count": 6,
   "id": "d40c21a5-7222-4bf7-9e20-6edbfe2ff5c1",
   "metadata": {},
   "outputs": [
    {
     "data": {
      "text/plain": [
       "DatetimeIndex(['2008-02-01', '2008-02-02', '2008-02-03', '2008-02-04',\n",
       "               '2008-02-05', '2008-02-06', '2008-02-07', '2008-02-08',\n",
       "               '2008-02-09', '2008-02-10',\n",
       "               ...\n",
       "               '2017-06-16', '2017-06-17', '2017-06-18', '2017-06-19',\n",
       "               '2017-06-20', '2017-06-21', '2017-06-22', '2017-06-23',\n",
       "               '2017-06-24', '2017-06-25'],\n",
       "              dtype='datetime64[ns]', name='Date', length=3337, freq=None)"
      ]
     },
     "execution_count": 6,
     "metadata": {},
     "output_type": "execute_result"
    }
   ],
   "source": [
    "data.index"
   ]
  },
  {
   "cell_type": "code",
   "execution_count": 7,
   "id": "f3a7048b-20e2-47fe-8ccf-600f81cc4a08",
   "metadata": {},
   "outputs": [
    {
     "data": {
      "text/plain": [
       "3337"
      ]
     },
     "execution_count": 7,
     "metadata": {},
     "output_type": "execute_result"
    }
   ],
   "source": [
    "len(data)"
   ]
  },
  {
   "cell_type": "markdown",
   "id": "b57e0959",
   "metadata": {},
   "source": [
    "### Step 4: Choose 3 columns to create datasets\n",
    "- Use **Humidity3pm** and **Pressure3pm** together with another column to predict **RainTomorrow**\n",
    "- Make a list of three column names **'Humidity3pm', 'Pressure3pm', INSERT YOUR CHOICE** (should be one with dtype *float64*, e.g., **Cloud3pm**), and **'RainTomorrow'**\n",
    "- Create the dataset consisting of these 4 columns"
   ]
  },
  {
   "cell_type": "code",
   "execution_count": 8,
   "id": "19af7cb6",
   "metadata": {},
   "outputs": [],
   "source": [
    "dataset= data[['Humidity3pm', 'Pressure3pm','Evaporation', 'RainTomorrow']]"
   ]
  },
  {
   "cell_type": "code",
   "execution_count": null,
   "id": "7784b419",
   "metadata": {},
   "outputs": [],
   "source": []
  },
  {
   "cell_type": "markdown",
   "id": "d5de442b",
   "metadata": {},
   "source": [
    "### Step 5: Deal with remaining missing data\n",
    "- A simple choice is to simply remove rows with missing data\n",
    "- Use [dropna()](https://pandas.pydata.org/docs/reference/api/pandas.DataFrame.dropna.html)"
   ]
  },
  {
   "cell_type": "code",
   "execution_count": 9,
   "id": "24285bcd",
   "metadata": {},
   "outputs": [],
   "source": [
    "dataclean = dataset.dropna()"
   ]
  },
  {
   "cell_type": "code",
   "execution_count": 10,
   "id": "5f3f5e9a",
   "metadata": {},
   "outputs": [
    {
     "data": {
      "text/plain": [
       "(3258, 3337)"
      ]
     },
     "execution_count": 10,
     "metadata": {},
     "output_type": "execute_result"
    }
   ],
   "source": [
    "len(dataclean), len(dataset)"
   ]
  },
  {
   "cell_type": "markdown",
   "id": "34fd807b",
   "metadata": {},
   "source": [
    "### Step 6: Create training and test datasets\n",
    "- Define dataset **X** to be the data consisting of the three columns.\n",
    "- Define dataset **y** to be datset cosisting of **'RainTomorrow'**.\n",
    "    - HINT: Use list comprehension to transform **'No'** and **'Yes'** to 0 and 1, repectively (like in the Lesson)\n",
    "- Divide into **X_train, X_test, y_train, y_test** with **train_test_split**\n",
    "    - HINT: See how it is done in Lesson\n",
    "    - You can use **random_state=42** (or any other number) if you want to reproduce results."
   ]
  },
  {
   "cell_type": "code",
   "execution_count": 22,
   "id": "1a204cd0",
   "metadata": {},
   "outputs": [],
   "source": [
    "X = dataclean[['Humidity3pm', 'Pressure3pm', 'Evaporation']]\n",
    "y = dataclean['RainTomorrow']\n",
    "y = np.array([0 if value == 'No' else 1 for value in y])"
   ]
  },
  {
   "cell_type": "code",
   "execution_count": 23,
   "id": "0b082d6a",
   "metadata": {},
   "outputs": [
    {
     "data": {
      "text/plain": [
       "(3258, 3258)"
      ]
     },
     "execution_count": 23,
     "metadata": {},
     "output_type": "execute_result"
    }
   ],
   "source": [
    "len(y), len(X)"
   ]
  },
  {
   "cell_type": "markdown",
   "id": "17012c4b",
   "metadata": {},
   "source": [
    "### Step 7: Train and test the model\n",
    "- Create classifier with **KNeighborsClassifier**\n",
    "    - You can play around with n_neighbors (default =5)\n",
    "- Fit the model with training data **(X_train, y_train**)\n",
    "- Predict data from **X_test** (use predict) and assign to **y_pred**.\n",
    "- Evalute score by using **metrics.accuracy_score(y_test, y_pred)**."
   ]
  },
  {
   "cell_type": "code",
   "execution_count": 24,
   "id": "b2fb3fb0",
   "metadata": {},
   "outputs": [],
   "source": [
    "import numpy as np\n",
    "from sklearn.model_selection import train_test_split\n",
    "from sklearn.neighbors import KNeighborsClassifier\n",
    "from sklearn.metrics import accuracy_score"
   ]
  },
  {
   "cell_type": "code",
   "execution_count": 25,
   "id": "da3c7e0f",
   "metadata": {},
   "outputs": [],
   "source": [
    "X_train, X_test, y_train, y_test = train_test_split(X, y, random_state=42)"
   ]
  },
  {
   "cell_type": "code",
   "execution_count": 45,
   "id": "988a7ae4-ade5-430d-9fc4-0cd85b78f994",
   "metadata": {},
   "outputs": [
    {
     "name": "stdout",
     "output_type": "stream",
     "text": [
      "(1267, 5)\n",
      "(423, 5)\n"
     ]
    }
   ],
   "source": [
    "print(X_train.shape)\n",
    "print(X_test.shape)"
   ]
  },
  {
   "cell_type": "code",
   "execution_count": 42,
   "id": "863fd4f5-1a93-41f8-b7fa-323a14f85240",
   "metadata": {},
   "outputs": [
    {
     "data": {
      "text/html": [
       "<div>\n",
       "<style scoped>\n",
       "    .dataframe tbody tr th:only-of-type {\n",
       "        vertical-align: middle;\n",
       "    }\n",
       "\n",
       "    .dataframe tbody tr th {\n",
       "        vertical-align: top;\n",
       "    }\n",
       "\n",
       "    .dataframe thead th {\n",
       "        text-align: right;\n",
       "    }\n",
       "</style>\n",
       "<table border=\"1\" class=\"dataframe\">\n",
       "  <thead>\n",
       "    <tr style=\"text-align: right;\">\n",
       "      <th></th>\n",
       "      <th>Evaporation</th>\n",
       "      <th>Sunshine</th>\n",
       "      <th>WindSpeed3pm</th>\n",
       "      <th>Humidity3pm</th>\n",
       "      <th>Pressure3pm</th>\n",
       "    </tr>\n",
       "    <tr>\n",
       "      <th>Date</th>\n",
       "      <th></th>\n",
       "      <th></th>\n",
       "      <th></th>\n",
       "      <th></th>\n",
       "      <th></th>\n",
       "    </tr>\n",
       "  </thead>\n",
       "  <tbody>\n",
       "    <tr>\n",
       "      <th>2012-07-22</th>\n",
       "      <td>3.6</td>\n",
       "      <td>6.8</td>\n",
       "      <td>20.0</td>\n",
       "      <td>62.0</td>\n",
       "      <td>1027.6</td>\n",
       "    </tr>\n",
       "    <tr>\n",
       "      <th>2013-12-16</th>\n",
       "      <td>7.0</td>\n",
       "      <td>6.4</td>\n",
       "      <td>24.0</td>\n",
       "      <td>60.0</td>\n",
       "      <td>1019.2</td>\n",
       "    </tr>\n",
       "    <tr>\n",
       "      <th>2016-06-19</th>\n",
       "      <td>0.8</td>\n",
       "      <td>0.0</td>\n",
       "      <td>20.0</td>\n",
       "      <td>89.0</td>\n",
       "      <td>1010.4</td>\n",
       "    </tr>\n",
       "    <tr>\n",
       "      <th>2014-03-19</th>\n",
       "      <td>6.6</td>\n",
       "      <td>10.1</td>\n",
       "      <td>26.0</td>\n",
       "      <td>57.0</td>\n",
       "      <td>1023.6</td>\n",
       "    </tr>\n",
       "    <tr>\n",
       "      <th>2015-04-19</th>\n",
       "      <td>6.6</td>\n",
       "      <td>6.6</td>\n",
       "      <td>35.0</td>\n",
       "      <td>69.0</td>\n",
       "      <td>1019.6</td>\n",
       "    </tr>\n",
       "  </tbody>\n",
       "</table>\n",
       "</div>"
      ],
      "text/plain": [
       "            Evaporation  Sunshine  WindSpeed3pm  Humidity3pm  Pressure3pm\n",
       "Date                                                                     \n",
       "2012-07-22          3.6       6.8          20.0         62.0       1027.6\n",
       "2013-12-16          7.0       6.4          24.0         60.0       1019.2\n",
       "2016-06-19          0.8       0.0          20.0         89.0       1010.4\n",
       "2014-03-19          6.6      10.1          26.0         57.0       1023.6\n",
       "2015-04-19          6.6       6.6          35.0         69.0       1019.6"
      ]
     },
     "execution_count": 42,
     "metadata": {},
     "output_type": "execute_result"
    }
   ],
   "source": [
    "X_train.head()"
   ]
  },
  {
   "cell_type": "code",
   "execution_count": 59,
   "id": "a3c5bd36-afd9-4e33-9156-cd0ff8289f13",
   "metadata": {},
   "outputs": [
    {
     "name": "stdout",
     "output_type": "stream",
     "text": [
      "74.97041420118343\n"
     ]
    }
   ],
   "source": [
    "print((len(X_train)/(len(X_train)+len(X_test))*100))"
   ]
  },
  {
   "cell_type": "code",
   "execution_count": 60,
   "id": "f4cc5a35-3642-47cf-9fa3-6e2be5b24128",
   "metadata": {},
   "outputs": [
    {
     "data": {
      "text/html": [
       "<div>\n",
       "<style scoped>\n",
       "    .dataframe tbody tr th:only-of-type {\n",
       "        vertical-align: middle;\n",
       "    }\n",
       "\n",
       "    .dataframe tbody tr th {\n",
       "        vertical-align: top;\n",
       "    }\n",
       "\n",
       "    .dataframe thead th {\n",
       "        text-align: right;\n",
       "    }\n",
       "</style>\n",
       "<table border=\"1\" class=\"dataframe\">\n",
       "  <thead>\n",
       "    <tr style=\"text-align: right;\">\n",
       "      <th></th>\n",
       "      <th>Humidity3pm</th>\n",
       "      <th>Pressure3pm</th>\n",
       "      <th>Evaporation</th>\n",
       "    </tr>\n",
       "    <tr>\n",
       "      <th>RainTomorrow</th>\n",
       "      <th></th>\n",
       "      <th></th>\n",
       "      <th></th>\n",
       "    </tr>\n",
       "  </thead>\n",
       "  <tbody>\n",
       "    <tr>\n",
       "      <th>No</th>\n",
       "      <td>0.737788</td>\n",
       "      <td>0.736290</td>\n",
       "      <td>0.734492</td>\n",
       "    </tr>\n",
       "    <tr>\n",
       "      <th>Yes</th>\n",
       "      <td>0.258316</td>\n",
       "      <td>0.258016</td>\n",
       "      <td>0.250225</td>\n",
       "    </tr>\n",
       "  </tbody>\n",
       "</table>\n",
       "</div>"
      ],
      "text/plain": [
       "              Humidity3pm  Pressure3pm  Evaporation\n",
       "RainTomorrow                                       \n",
       "No               0.737788     0.736290     0.734492\n",
       "Yes              0.258316     0.258016     0.250225"
      ]
     },
     "execution_count": 60,
     "metadata": {},
     "output_type": "execute_result"
    }
   ],
   "source": [
    "dataset.groupby('RainTomorrow').count()/len(dataset)"
   ]
  },
  {
   "cell_type": "code",
   "execution_count": 62,
   "id": "d9308131-17e4-4a8f-9768-cf040b0aa7b1",
   "metadata": {},
   "outputs": [
    {
     "data": {
      "text/plain": [
       "RainTomorrow\n",
       "No     0.737788\n",
       "Yes    0.258316\n",
       "Name: Humidity3pm, dtype: float64"
      ]
     },
     "execution_count": 62,
     "metadata": {},
     "output_type": "execute_result"
    }
   ],
   "source": [
    "dataset.groupby('RainTomorrow')['Humidity3pm'].count()/len(dataset)"
   ]
  },
  {
   "cell_type": "code",
   "execution_count": null,
   "id": "9506bbd6-8dff-492c-a7f1-b26670b649e6",
   "metadata": {},
   "outputs": [],
   "source": []
  },
  {
   "cell_type": "code",
   "execution_count": 26,
   "id": "acb6f43c-f9fe-47f7-a05f-3211bf8da286",
   "metadata": {},
   "outputs": [
    {
     "data": {
      "text/plain": [
       "0.8012269938650307"
      ]
     },
     "execution_count": 26,
     "metadata": {},
     "output_type": "execute_result"
    }
   ],
   "source": [
    "neigh = KNeighborsClassifier()\n",
    "neigh.fit(X_train, y_train)\n",
    "y_pred = neigh.predict(X_test)\n",
    "accuracy_score(y_test, y_pred)"
   ]
  },
  {
   "cell_type": "code",
   "execution_count": 28,
   "id": "25394f36-922f-4b18-b4a1-e9d9dd64cb0f",
   "metadata": {},
   "outputs": [
    {
     "data": {
      "text/plain": [
       "MinTemp          float64\n",
       "MaxTemp          float64\n",
       "Rainfall         float64\n",
       "Evaporation      float64\n",
       "Sunshine         float64\n",
       "WindGustDir       object\n",
       "WindGustSpeed    float64\n",
       "WindDir9am        object\n",
       "WindDir3pm        object\n",
       "WindSpeed9am     float64\n",
       "WindSpeed3pm     float64\n",
       "Humidity9am      float64\n",
       "Humidity3pm      float64\n",
       "Pressure9am      float64\n",
       "Pressure3pm      float64\n",
       "Cloud9am         float64\n",
       "Cloud3pm         float64\n",
       "Temp9am          float64\n",
       "Temp3pm          float64\n",
       "RainToday         object\n",
       "RISK_MM          float64\n",
       "RainTomorrow      object\n",
       "dtype: object"
      ]
     },
     "execution_count": 28,
     "metadata": {},
     "output_type": "execute_result"
    }
   ],
   "source": [
    "data.dtypes"
   ]
  },
  {
   "cell_type": "code",
   "execution_count": null,
   "id": "c20e3d1c-ad6e-4517-94c0-6790e541fecd",
   "metadata": {},
   "outputs": [],
   "source": []
  },
  {
   "cell_type": "code",
   "execution_count": 30,
   "id": "da94af02-26b3-4bde-babb-52bd818e7165",
   "metadata": {},
   "outputs": [],
   "source": [
    "dataset1 = data[['Rainfall', 'Evaporation', 'Sunshine','WindSpeed3pm','Humidity3pm','Pressure3pm', 'RainTomorrow' ]]"
   ]
  },
  {
   "cell_type": "code",
   "execution_count": 31,
   "id": "0dce697c-5239-45d8-8d55-d7bf629881da",
   "metadata": {},
   "outputs": [],
   "source": [
    "dataclean1 = data.dropna()"
   ]
  },
  {
   "cell_type": "markdown",
   "id": "7b067085",
   "metadata": {},
   "source": [
    "### Step 8 (Optional): Try with different columns\n",
    "- You can redo with diffrent choise of columns (starting from step 4)"
   ]
  },
  {
   "cell_type": "code",
   "execution_count": 32,
   "id": "679a8ac0",
   "metadata": {},
   "outputs": [
    {
     "data": {
      "text/plain": [
       "(1690, 3337)"
      ]
     },
     "execution_count": 32,
     "metadata": {},
     "output_type": "execute_result"
    }
   ],
   "source": [
    "len(dataclean1), len(data)"
   ]
  },
  {
   "cell_type": "code",
   "execution_count": 33,
   "id": "fa8091bb",
   "metadata": {},
   "outputs": [],
   "source": [
    "X = dataclean1[['Rainfall', 'Evaporation', 'Sunshine','WindSpeed3pm','Humidity3pm','Pressure3pm']]\n",
    "y = dataclean1['RainTomorrow']\n",
    "y = np.array([0 if value == 'No' else 1 for value in y])"
   ]
  },
  {
   "cell_type": "code",
   "execution_count": 70,
   "id": "361bc90b",
   "metadata": {},
   "outputs": [],
   "source": [
    "X_train, X_test, y_train, y_test = train_test_split(X, y, random_state=42)"
   ]
  },
  {
   "cell_type": "markdown",
   "id": "e462fb86-7e56-46e4-b75a-122a4c14dfd1",
   "metadata": {},
   "source": [
    "## Funcionamiento de train_test_split\n",
    "https://interactivechaos.com/es/python/function/sklearnmodelselectiontraintestsplit"
   ]
  },
  {
   "cell_type": "code",
   "execution_count": 37,
   "id": "0cf6fab9",
   "metadata": {},
   "outputs": [
    {
     "data": {
      "text/plain": [
       "0.8132387706855791"
      ]
     },
     "execution_count": 37,
     "metadata": {},
     "output_type": "execute_result"
    }
   ],
   "source": [
    "neigh = KNeighborsClassifier()\n",
    "neigh.fit(X_train, y_train)\n",
    "y_pred = neigh.predict(X_test)\n",
    "accuracy_score(y_test, y_pred)"
   ]
  },
  {
   "cell_type": "code",
   "execution_count": 36,
   "id": "0c319864",
   "metadata": {},
   "outputs": [],
   "source": [
    "X = dataclean1[['Evaporation', 'Sunshine','WindSpeed3pm','Humidity3pm','Pressure3pm']]\n",
    "y = dataclean1['RainTomorrow']\n",
    "y = np.array([0 if value == 'No' else 1 for value in y])"
   ]
  },
  {
   "cell_type": "code",
   "execution_count": 38,
   "id": "caf3e852",
   "metadata": {},
   "outputs": [],
   "source": [
    "X_train, X_test, y_train, y_test = train_test_split(X, y, random_state=42)"
   ]
  },
  {
   "cell_type": "markdown",
   "id": "931d0e5d-d4ac-48e4-b5bc-33a25e8458cf",
   "metadata": {},
   "source": [
    "Signature:\n",
    "train_test_split(\n",
    "    *arrays,\n",
    "    test_size=None,\n",
    "    train_size=None,\n",
    "    random_state=None,\n",
    "    shuffle=True,\n",
    "    stratify=None,\n",
    ")\n",
    "Docstring:\n",
    "Split arrays or matrices into random train and test subsets.\n",
    "\n",
    "Quick utility that wraps input validation,\n",
    "``next(ShuffleSplit().split(X, y))``, and application to input data\n",
    "into a single call for splitting (and optionally subsampling) data into a\n",
    "one-liner.\n",
    "\n",
    "Read more in the :ref:`User Guide <cross_validation>`.\n",
    "\n",
    "Parameters\n",
    "----------\n",
    "*arrays : sequence of indexables with same length / shape[0]\n",
    "    Allowed inputs are lists, numpy arrays, scipy-sparse\n",
    "    matrices or pandas dataframes.\n",
    "\n",
    "test_size : float or int, default=None\n",
    "    If float, should be between 0.0 and 1.0 and represent the proportion\n",
    "    of the dataset to include in the test split. If int, represents the\n",
    "    absolute number of test samples. If None, the value is set to the\n",
    "    complement of the train size. If ``train_size`` is also None, it will\n",
    "    be set to 0.25.\n",
    "\n",
    "train_size : float or int, default=None\n",
    "    If float, should be between 0.0 and 1.0 and represent the\n",
    "    proportion of the dataset to include in the train split. If\n",
    "    int, represents the absolute number of train samples. If None,\n",
    "    the value is automatically set to the complement of the test size.\n",
    "\n",
    "random_state : int, RandomState instance or None, default=None\n",
    "    Controls the shuffling applied to the data before applying the split.\n",
    "    Pass an int for reproducible output across multiple function calls.\n",
    "    See :term:`Glossary <random_state>`.\n",
    "\n",
    "shuffle : bool, default=True\n",
    "    Whether or not to shuffle the data before splitting. If shuffle=False\n",
    "    then stratify must be None.\n",
    "\n",
    "stratify : array-like, default=None\n",
    "    If not None, data is split in a stratified fashion, using this as\n",
    "    the class labels.\n",
    "    Read more in the :ref:`User Guide <stratification>`.\n",
    "\n",
    "Returns\n",
    "-------\n",
    "splitting : list, length=2 * len(arrays)\n",
    "    List containing train-test split of inputs.\n",
    "\n",
    "    .. versionadded:: 0.16\n",
    "        If the input is sparse, the output will be a\n",
    "        ``scipy.sparse.csr_matrix``. Else, output type is the same as the\n",
    "        input type.\n",
    "\n",
    "Examples\n",
    "--------\n",
    ">>> import numpy as np\n",
    ">>> from sklearn.model_selection import train_test_split\n",
    ">>> X, y = np.arange(10).reshape((5, 2)), range(5)\n",
    ">>> X\n",
    "array([[0, 1],\n",
    "       [2, 3],\n",
    "       [4, 5],\n",
    "       [6, 7],\n",
    "       [8, 9]])\n",
    ">>> list(y)\n",
    "[0, 1, 2, 3, 4]\n",
    "\n",
    ">>> X_train, X_test, y_train, y_test = train_test_split(\n",
    "...     X, y, test_size=0.33, random_state=42)\n",
    "...\n",
    ">>> X_train\n",
    "array([[4, 5],\n",
    "       [0, 1],\n",
    "       [6, 7]])\n",
    ">>> y_train\n",
    "[2, 0, 3]\n",
    ">>> X_test\n",
    "array([[2, 3],\n",
    "       [8, 9]])\n",
    ">>> y_test\n",
    "[1, 4]\n",
    "\n",
    ">>> train_test_split(y, shuffle=False)\n",
    "[[0, 1, 2], [3, 4]]\n",
    "File:      c:\\users\\owner\\anaconda3\\lib\\site-packages\\sklearn\\model_selection\\_split.py\n",
    "Type:      function"
   ]
  },
  {
   "cell_type": "code",
   "execution_count": 39,
   "id": "a5676e25",
   "metadata": {},
   "outputs": [
    {
     "data": {
      "text/plain": [
       "0.8274231678486997"
      ]
     },
     "execution_count": 39,
     "metadata": {},
     "output_type": "execute_result"
    }
   ],
   "source": [
    "neigh = KNeighborsClassifier()\n",
    "neigh.fit(X_train, y_train)\n",
    "y_pred = neigh.predict(X_test)\n",
    "accuracy_score(y_test, y_pred)"
   ]
  },
  {
   "cell_type": "code",
   "execution_count": null,
   "id": "6f1f49f7-321a-4c50-bd0f-f77c9f814b64",
   "metadata": {},
   "outputs": [],
   "source": []
  }
 ],
 "metadata": {
  "kernelspec": {
   "display_name": "Python 3 (ipykernel)",
   "language": "python",
   "name": "python3"
  },
  "language_info": {
   "codemirror_mode": {
    "name": "ipython",
    "version": 3
   },
   "file_extension": ".py",
   "mimetype": "text/x-python",
   "name": "python",
   "nbconvert_exporter": "python",
   "pygments_lexer": "ipython3",
   "version": "3.9.13"
  }
 },
 "nbformat": 4,
 "nbformat_minor": 5
}
